{
 "cells": [
  {
   "cell_type": "code",
   "execution_count": null,
   "metadata": {},
   "outputs": [],
   "source": [
    "#!pip install xlrd"
   ]
  },
  {
   "cell_type": "markdown",
   "metadata": {},
   "source": [
    "# México (anterior, con datos de @guzmart)"
   ]
  },
  {
   "cell_type": "code",
   "execution_count": 1,
   "metadata": {},
   "outputs": [],
   "source": [
    "import os\n",
    "import datetime as dt\n",
    "import pandas as pd\n",
    "import matplotlib\n",
    "import matplotlib.pyplot as plt\n",
    "import seaborn as sns\n",
    "\n",
    "%matplotlib inline\n",
    "sns.set(style=\"whitegrid\")\n",
    "plt.rcParams['figure.figsize'] = [20, 20]"
   ]
  },
  {
   "cell_type": "code",
   "execution_count": 2,
   "metadata": {},
   "outputs": [],
   "source": [
    "def transform_guzmart(df):\n",
    "    df['fecha_corte'] = pd.to_datetime(df['fecha_corte'])\n",
    "    df['fecha_inicio'] = pd.to_datetime(df['fecha_inicio'])\n",
    "    return df\n",
    "\n",
    "def get_guzmart(date, force=False):\n",
    "    sdate = date.strftime('%Y%m%d')\n",
    "    fname = f\"covid_mex_{sdate}\"\n",
    "    local_fname = f\"data/guzmart/{fname}.h5\"\n",
    "    if not force and os.path.isfile(local_fname):\n",
    "        df = pd.read_hdf(local_fname, 'df')\n",
    "    else:\n",
    "        url = f\"https://github.com/guzmart/covid19_mex/raw/master/01_datos/covid_mex_{sdate}.xlsx\"\n",
    "        df = pd.read_excel(url)\n",
    "        df = transform_guzmart(df)\n",
    "        #guardar version csv y hdf\n",
    "        csv_fname = f\"data/guzmart/{fname}.csv\"\n",
    "        df.to_csv(csv_fname)\n",
    "        df.to_hdf(local_fname, 'df')\n",
    "    return df"
   ]
  },
  {
   "cell_type": "code",
   "execution_count": 3,
   "metadata": {},
   "outputs": [
    {
     "data": {
      "text/html": [
       "<div>\n",
       "<style scoped>\n",
       "    .dataframe tbody tr th:only-of-type {\n",
       "        vertical-align: middle;\n",
       "    }\n",
       "\n",
       "    .dataframe tbody tr th {\n",
       "        vertical-align: top;\n",
       "    }\n",
       "\n",
       "    .dataframe thead th {\n",
       "        text-align: right;\n",
       "    }\n",
       "</style>\n",
       "<table border=\"1\" class=\"dataframe\">\n",
       "  <thead>\n",
       "    <tr style=\"text-align: right;\">\n",
       "      <th></th>\n",
       "      <th>num_caso</th>\n",
       "      <th>ent</th>\n",
       "      <th>sexo</th>\n",
       "      <th>edad</th>\n",
       "      <th>fecha_inicio</th>\n",
       "      <th>identificado</th>\n",
       "      <th>procedencia</th>\n",
       "      <th>fecha_llegada_mexico</th>\n",
       "      <th>fecha_corte</th>\n",
       "      <th>inconsistencia_nuevo</th>\n",
       "      <th>inconsistencia_nuevo_fecha</th>\n",
       "      <th>inconsistencia_omision</th>\n",
       "      <th>inconsistencia_omision_fecha_ult_aparicion</th>\n",
       "    </tr>\n",
       "  </thead>\n",
       "  <tbody>\n",
       "    <tr>\n",
       "      <th>0</th>\n",
       "      <td>1</td>\n",
       "      <td>CIUDAD DE MÉXICO</td>\n",
       "      <td>M</td>\n",
       "      <td>35</td>\n",
       "      <td>2020-02-22</td>\n",
       "      <td>confirmado</td>\n",
       "      <td>Italia</td>\n",
       "      <td>2020-02-22</td>\n",
       "      <td>2020-02-27</td>\n",
       "      <td>0</td>\n",
       "      <td>NaT</td>\n",
       "      <td>0</td>\n",
       "      <td>NaT</td>\n",
       "    </tr>\n",
       "    <tr>\n",
       "      <th>1</th>\n",
       "      <td>2</td>\n",
       "      <td>SINALOA</td>\n",
       "      <td>M</td>\n",
       "      <td>41</td>\n",
       "      <td>2020-02-22</td>\n",
       "      <td>confirmado</td>\n",
       "      <td>Italia</td>\n",
       "      <td>2020-02-21</td>\n",
       "      <td>2020-02-28</td>\n",
       "      <td>0</td>\n",
       "      <td>NaT</td>\n",
       "      <td>0</td>\n",
       "      <td>NaT</td>\n",
       "    </tr>\n",
       "    <tr>\n",
       "      <th>2</th>\n",
       "      <td>3</td>\n",
       "      <td>CIUDAD DE MÉXICO</td>\n",
       "      <td>M</td>\n",
       "      <td>59</td>\n",
       "      <td>2020-02-23</td>\n",
       "      <td>confirmado</td>\n",
       "      <td>Italia</td>\n",
       "      <td>2020-02-22</td>\n",
       "      <td>2020-02-29</td>\n",
       "      <td>0</td>\n",
       "      <td>NaT</td>\n",
       "      <td>0</td>\n",
       "      <td>NaT</td>\n",
       "    </tr>\n",
       "    <tr>\n",
       "      <th>3</th>\n",
       "      <td>4</td>\n",
       "      <td>COAHUILA</td>\n",
       "      <td>F</td>\n",
       "      <td>20</td>\n",
       "      <td>2020-02-27</td>\n",
       "      <td>confirmado</td>\n",
       "      <td>Italia</td>\n",
       "      <td>2020-02-25</td>\n",
       "      <td>2020-02-29</td>\n",
       "      <td>0</td>\n",
       "      <td>NaT</td>\n",
       "      <td>0</td>\n",
       "      <td>NaT</td>\n",
       "    </tr>\n",
       "    <tr>\n",
       "      <th>4</th>\n",
       "      <td>5</td>\n",
       "      <td>CHIAPAS</td>\n",
       "      <td>F</td>\n",
       "      <td>18</td>\n",
       "      <td>2020-02-25</td>\n",
       "      <td>confirmado</td>\n",
       "      <td>Italia</td>\n",
       "      <td>2020-02-25</td>\n",
       "      <td>2020-03-01</td>\n",
       "      <td>0</td>\n",
       "      <td>NaT</td>\n",
       "      <td>0</td>\n",
       "      <td>NaT</td>\n",
       "    </tr>\n",
       "    <tr>\n",
       "      <th>5</th>\n",
       "      <td>6</td>\n",
       "      <td>MÉXICO</td>\n",
       "      <td>M</td>\n",
       "      <td>71</td>\n",
       "      <td>2020-02-21</td>\n",
       "      <td>confirmado</td>\n",
       "      <td>Italia</td>\n",
       "      <td>2020-02-21</td>\n",
       "      <td>2020-03-06</td>\n",
       "      <td>0</td>\n",
       "      <td>NaT</td>\n",
       "      <td>0</td>\n",
       "      <td>NaT</td>\n",
       "    </tr>\n",
       "    <tr>\n",
       "      <th>6</th>\n",
       "      <td>7</td>\n",
       "      <td>CIUDAD DE MÉXICO</td>\n",
       "      <td>M</td>\n",
       "      <td>46</td>\n",
       "      <td>2020-02-29</td>\n",
       "      <td>confirmado</td>\n",
       "      <td>Estados Unidos</td>\n",
       "      <td>2020-02-29</td>\n",
       "      <td>2020-03-07</td>\n",
       "      <td>0</td>\n",
       "      <td>NaT</td>\n",
       "      <td>0</td>\n",
       "      <td>NaT</td>\n",
       "    </tr>\n",
       "    <tr>\n",
       "      <th>7</th>\n",
       "      <td>8</td>\n",
       "      <td>QUERETARO</td>\n",
       "      <td>M</td>\n",
       "      <td>43</td>\n",
       "      <td>2020-03-09</td>\n",
       "      <td>confirmado</td>\n",
       "      <td>España</td>\n",
       "      <td>2020-03-06</td>\n",
       "      <td>2020-03-11</td>\n",
       "      <td>0</td>\n",
       "      <td>NaT</td>\n",
       "      <td>0</td>\n",
       "      <td>NaT</td>\n",
       "    </tr>\n",
       "    <tr>\n",
       "      <th>8</th>\n",
       "      <td>9</td>\n",
       "      <td>CIUDAD DE MÉXICO</td>\n",
       "      <td>M</td>\n",
       "      <td>41</td>\n",
       "      <td>2020-03-07</td>\n",
       "      <td>confirmado</td>\n",
       "      <td>Estados Unidos</td>\n",
       "      <td>2020-03-06</td>\n",
       "      <td>2020-03-11</td>\n",
       "      <td>0</td>\n",
       "      <td>NaT</td>\n",
       "      <td>0</td>\n",
       "      <td>NaT</td>\n",
       "    </tr>\n",
       "    <tr>\n",
       "      <th>9</th>\n",
       "      <td>10</td>\n",
       "      <td>CIUDAD DE MÉXICO</td>\n",
       "      <td>F</td>\n",
       "      <td>30</td>\n",
       "      <td>2020-03-07</td>\n",
       "      <td>confirmado</td>\n",
       "      <td>España</td>\n",
       "      <td>2020-03-06</td>\n",
       "      <td>2020-03-11</td>\n",
       "      <td>0</td>\n",
       "      <td>NaT</td>\n",
       "      <td>0</td>\n",
       "      <td>NaT</td>\n",
       "    </tr>\n",
       "  </tbody>\n",
       "</table>\n",
       "</div>"
      ],
      "text/plain": [
       "   num_caso               ent sexo  edad fecha_inicio identificado  \\\n",
       "0         1  CIUDAD DE MÉXICO    M    35   2020-02-22   confirmado   \n",
       "1         2           SINALOA    M    41   2020-02-22   confirmado   \n",
       "2         3  CIUDAD DE MÉXICO    M    59   2020-02-23   confirmado   \n",
       "3         4          COAHUILA    F    20   2020-02-27   confirmado   \n",
       "4         5           CHIAPAS    F    18   2020-02-25   confirmado   \n",
       "5         6            MÉXICO    M    71   2020-02-21   confirmado   \n",
       "6         7  CIUDAD DE MÉXICO    M    46   2020-02-29   confirmado   \n",
       "7         8         QUERETARO    M    43   2020-03-09   confirmado   \n",
       "8         9  CIUDAD DE MÉXICO    M    41   2020-03-07   confirmado   \n",
       "9        10  CIUDAD DE MÉXICO    F    30   2020-03-07   confirmado   \n",
       "\n",
       "      procedencia fecha_llegada_mexico fecha_corte  inconsistencia_nuevo  \\\n",
       "0          Italia           2020-02-22  2020-02-27                     0   \n",
       "1          Italia           2020-02-21  2020-02-28                     0   \n",
       "2          Italia           2020-02-22  2020-02-29                     0   \n",
       "3          Italia           2020-02-25  2020-02-29                     0   \n",
       "4          Italia           2020-02-25  2020-03-01                     0   \n",
       "5          Italia           2020-02-21  2020-03-06                     0   \n",
       "6  Estados Unidos           2020-02-29  2020-03-07                     0   \n",
       "7          España           2020-03-06  2020-03-11                     0   \n",
       "8  Estados Unidos           2020-03-06  2020-03-11                     0   \n",
       "9          España           2020-03-06  2020-03-11                     0   \n",
       "\n",
       "  inconsistencia_nuevo_fecha  inconsistencia_omision  \\\n",
       "0                        NaT                       0   \n",
       "1                        NaT                       0   \n",
       "2                        NaT                       0   \n",
       "3                        NaT                       0   \n",
       "4                        NaT                       0   \n",
       "5                        NaT                       0   \n",
       "6                        NaT                       0   \n",
       "7                        NaT                       0   \n",
       "8                        NaT                       0   \n",
       "9                        NaT                       0   \n",
       "\n",
       "  inconsistencia_omision_fecha_ult_aparicion  \n",
       "0                                        NaT  \n",
       "1                                        NaT  \n",
       "2                                        NaT  \n",
       "3                                        NaT  \n",
       "4                                        NaT  \n",
       "5                                        NaT  \n",
       "6                                        NaT  \n",
       "7                                        NaT  \n",
       "8                                        NaT  \n",
       "9                                        NaT  "
      ]
     },
     "execution_count": 3,
     "metadata": {},
     "output_type": "execute_result"
    }
   ],
   "source": [
    "#yesterday = dt.date.today() - dt.timedelta(days=1)\n",
    "#Ultimos datos válidos que encontramos\n",
    "fecha = dt.date(2020,4,1)#yesterday #dt.date.today()\n",
    "df = transform_guzmart(get_guzmart(fecha, force=True))#yesterday\n",
    "df.head(10)"
   ]
  },
  {
   "cell_type": "code",
   "execution_count": 4,
   "metadata": {},
   "outputs": [
    {
     "data": {
      "text/plain": [
       "2020-02-27      1\n",
       "2020-02-28      1\n",
       "2020-02-29      2\n",
       "2020-03-01      1\n",
       "2020-03-06      1\n",
       "2020-03-07      1\n",
       "2020-03-11      5\n",
       "2020-03-12      3\n",
       "2020-03-13     11\n",
       "2020-03-14     15\n",
       "2020-03-15     12\n",
       "2020-03-16     29\n",
       "2020-03-17     11\n",
       "2020-03-18     25\n",
       "2020-03-19     46\n",
       "2020-03-20     40\n",
       "2020-03-21     48\n",
       "2020-03-22     65\n",
       "2020-03-23     51\n",
       "2020-03-24     38\n",
       "2020-03-25     70\n",
       "2020-03-26    111\n",
       "2020-03-27    133\n",
       "2020-03-28    132\n",
       "2020-03-29    145\n",
       "2020-03-30    101\n",
       "2020-03-31    120\n",
       "2020-04-01    172\n",
       "Name: fecha_corte, dtype: int64"
      ]
     },
     "execution_count": 4,
     "metadata": {},
     "output_type": "execute_result"
    }
   ],
   "source": [
    "counts = df[\"fecha_corte\"].value_counts().sort_index()\n",
    "counts"
   ]
  },
  {
   "cell_type": "code",
   "execution_count": 5,
   "metadata": {},
   "outputs": [
    {
     "data": {
      "image/png": "[encoded data removed]",
      "text/plain": [
       "<Figure size 432x288 with 1 Axes>"
      ]
     },
     "metadata": {
      "needs_background": "light"
     },
     "output_type": "display_data"
    }
   ],
   "source": [
    "f, ax = plt.subplots()#figsize=(14, 10))\n",
    "#ax.set(yscale=\"log\")\n",
    "plt.xticks(rotation=45)\n",
    "p = sns.lineplot(data=counts)"
   ]
  },
  {
   "cell_type": "code",
   "execution_count": 6,
   "metadata": {},
   "outputs": [
    {
     "data": {
      "text/plain": [
       "2020-02-27       1\n",
       "2020-02-28       2\n",
       "2020-02-29       4\n",
       "2020-03-01       5\n",
       "2020-03-06       6\n",
       "2020-03-07       7\n",
       "2020-03-11      12\n",
       "2020-03-12      15\n",
       "2020-03-13      26\n",
       "2020-03-14      41\n",
       "2020-03-15      53\n",
       "2020-03-16      82\n",
       "2020-03-17      93\n",
       "2020-03-18     118\n",
       "2020-03-19     164\n",
       "2020-03-20     204\n",
       "2020-03-21     252\n",
       "2020-03-22     317\n",
       "2020-03-23     368\n",
       "2020-03-24     406\n",
       "2020-03-25     476\n",
       "2020-03-26     587\n",
       "2020-03-27     720\n",
       "2020-03-28     852\n",
       "2020-03-29     997\n",
       "2020-03-30    1098\n",
       "2020-03-31    1218\n",
       "2020-04-01    1390\n",
       "Name: fecha_corte, dtype: int64"
      ]
     },
     "execution_count": 6,
     "metadata": {},
     "output_type": "execute_result"
    }
   ],
   "source": [
    "cum = counts.cumsum()\n",
    "cum"
   ]
  },
  {
   "cell_type": "code",
   "execution_count": 7,
   "metadata": {},
   "outputs": [
    {
     "data": {
      "text/plain": [
       "<matplotlib.axes._subplots.AxesSubplot at 0x7fdca35d6b70>"
      ]
     },
     "execution_count": 7,
     "metadata": {},
     "output_type": "execute_result"
    },
    {
     "data": {
      "image/png": "[encoded data removed]",
      "text/plain": [
       "<Figure size 432x288 with 1 Axes>"
      ]
     },
     "metadata": {
      "needs_background": "light"
     },
     "output_type": "display_data"
    }
   ],
   "source": [
    "plt.xticks(rotation=45)\n",
    "sns.lineplot(data=cum)"
   ]
  },
  {
   "cell_type": "code",
   "execution_count": 8,
   "metadata": {},
   "outputs": [
    {
     "data": {
      "text/plain": [
       "<matplotlib.axes._subplots.AxesSubplot at 0x7fdca3110dd8>"
      ]
     },
     "execution_count": 8,
     "metadata": {},
     "output_type": "execute_result"
    },
    {
     "data": {
      "image/png": "[encoded data removed]",
      "text/plain": [
       "<Figure size 432x288 with 1 Axes>"
      ]
     },
     "metadata": {
      "needs_background": "light"
     },
     "output_type": "display_data"
    }
   ],
   "source": [
    "f, ax = plt.subplots()#figsize=(14, 10))\n",
    "plt.xticks(rotation=45)\n",
    "ax.set(yscale=\"log\")\n",
    "sns.lineplot(data=counts)"
   ]
  }
 ],
 "metadata": {
  "kernelspec": {
   "display_name": "Python 3",
   "language": "python",
   "name": "python3"
  },
  "language_info": {
   "codemirror_mode": {
    "name": "ipython",
    "version": 3
   },
   "file_extension": ".py",
   "mimetype": "text/x-python",
   "name": "python",
   "nbconvert_exporter": "python",
   "pygments_lexer": "ipython3",
   "version": "3.6.9"
  }
 },
 "nbformat": 4,
 "nbformat_minor": 4
}
